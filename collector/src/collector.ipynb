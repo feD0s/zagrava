{
 "cells": [
  {
   "cell_type": "code",
   "execution_count": 6,
   "metadata": {},
   "outputs": [],
   "source": [
    "# -*- coding: utf-8 -*-\n",
    "\n",
    "import os\n",
    "import sys\n",
    "import time\n",
    "\n",
    "# -----------------------------------------------------------------------------\n",
    "\n",
    "# root = os.path.dirname(os.path.dirname(os.path.dirname(os.path.abspath(__file__))))\n",
    "# sys.path.append(root + '/python')\n",
    "\n",
    "# -----------------------------------------------------------------------------\n",
    "\n",
    "import ccxt  # noqa: E402\n",
    "from ccxt.base.decimal_to_precision import ROUND_UP  # noqa: E402\n",
    "\n",
    "# -----------------------------------------------------------------------------\n",
    "# common constants\n",
    "\n",
    "msec = 1000\n",
    "minute = 60 * msec\n",
    "hold = 30\n",
    "\n",
    "# -----------------------------------------------------------------------------\n",
    "\n",
    "exchange = ccxt.binance()\n",
    "\n",
    "limit = 500\n",
    "timeframe = \"5m\"\n",
    "interval = exchange.parse_timeframe(timeframe) * 1000\n",
    "\n"
   ]
  },
  {
   "cell_type": "code",
   "execution_count": null,
   "metadata": {},
   "outputs": [],
   "source": [
    "try:\n",
    "    print(exchange.milliseconds(), 'Fetching candles')\n",
    "    since = exchange.round_timeframe(timeframe, exchange.milliseconds(), ROUND_UP) - (limit * interval)\n",
    "    ohlcv = exchange.fetch_ohlcv('ETH/BTC', timeframe, since=since, limit=limit)\n",
    "    print(exchange.milliseconds(), 'Fetched', len(ohlcv), 'candles')\n",
    "    first = ohlcv[0][0]\n",
    "    last = ohlcv[-1][0]\n",
    "    print('First candle epoch', first, exchange.iso8601(first))\n",
    "    print('Last candle epoch', last, exchange.iso8601(last))\n",
    "    # Calculate time to next candle and sleep for that many seconds\n",
    "    sleeptime = (exchange.round_timeframe(timeframe, last, ROUND_UP) - exchange.milliseconds()) / 1000\n",
    "    print('sleeping for: ', sleeptime, 's', sleeptime // 60, 'min')\n",
    "    time.sleep(sleeptime)\n",
    "except (ccxt.ExchangeError, ccxt.AuthenticationError, ccxt.ExchangeNotAvailable, ccxt.RequestTimeout) as error:\n",
    "    print('Got an error', type(error).__name__, error.args, ', retrying in', hold, 'seconds...')\n",
    "    time.sleep(hold)"
   ]
  }
 ],
 "metadata": {
  "kernelspec": {
   "display_name": "Python 3.10.0 64-bit",
   "language": "python",
   "name": "python3"
  },
  "language_info": {
   "codemirror_mode": {
    "name": "ipython",
    "version": 3
   },
   "file_extension": ".py",
   "mimetype": "text/x-python",
   "name": "python",
   "nbconvert_exporter": "python",
   "pygments_lexer": "ipython3",
   "version": "3.10.0"
  },
  "orig_nbformat": 4,
  "vscode": {
   "interpreter": {
    "hash": "b07d5609b55c953684126533ecb362b096281dfca54f7bec9599471705f98c01"
   }
  }
 },
 "nbformat": 4,
 "nbformat_minor": 2
}
