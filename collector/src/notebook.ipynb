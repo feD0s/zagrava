{
 "cells": [
  {
   "cell_type": "markdown",
   "metadata": {},
   "source": [
    "# Zagrava interview"
   ]
  },
  {
   "cell_type": "markdown",
   "metadata": {},
   "source": [
    "### 1. Import libs and get parameters"
   ]
  },
  {
   "cell_type": "markdown",
   "metadata": {},
   "source": [
    "First we import libs and get parameters from config and strategy files"
   ]
  },
  {
   "cell_type": "markdown",
   "metadata": {},
   "source": [
    "strategy.yaml file will be our minimalistic interface in which the user can specify the conditions in which he or she will buy or sell. "
   ]
  },
  {
   "cell_type": "code",
   "execution_count": 1,
   "metadata": {},
   "outputs": [],
   "source": [
    "import math\n",
    "import os\n",
    "import sys\n",
    "import time\n",
    "\n",
    "import ccxt\n",
    "import matplotlib.pyplot as mplt\n",
    "import pandas as pd\n",
    "import yaml\n",
    "from ccxt.base.decimal_to_precision import ROUND_UP\n",
    "\n",
    "\n",
    "# get strategy parameters\n",
    "with open(\"strategy.yaml\", \"r\") as strategy:\n",
    "    try:\n",
    "        strat = yaml.safe_load(strategy)\n",
    "    except yaml.YAMLError as exc:\n",
    "        print(exc)\n",
    "\n",
    "# get config parameters\n",
    "with open(\"config.yaml\", \"r\") as config:\n",
    "    try:\n",
    "        cfg = yaml.safe_load(config)\n",
    "    except yaml.YAMLError as exc:\n",
    "        print(exc)\n",
    "\n",
    "msec = 1000\n",
    "minute = 60 * msec\n",
    "hold = 30\n",
    "\n",
    "symbol = cfg['symbol']\n",
    "windowSize = strat['windowSize']\n",
    "# add windowSize to timeLimit to calculate ewma properly for given timeLimit\n",
    "timeLimit = cfg['timeLimit'] + windowSize\n",
    "timeframe = cfg['timeframe']\n",
    "comissionRate = cfg['comissionRate']\n"
   ]
  },
  {
   "cell_type": "markdown",
   "metadata": {},
   "source": [
    "### 2. Data collection"
   ]
  },
  {
   "cell_type": "markdown",
   "metadata": {},
   "source": [
    "Now let's get candles from binance. It will be our data collection unit that would gather 1 minute candles in the specified range."
   ]
  },
  {
   "cell_type": "code",
   "execution_count": 2,
   "metadata": {},
   "outputs": [
    {
     "data": {
      "text/html": [
       "<div>\n",
       "<style scoped>\n",
       "    .dataframe tbody tr th:only-of-type {\n",
       "        vertical-align: middle;\n",
       "    }\n",
       "\n",
       "    .dataframe tbody tr th {\n",
       "        vertical-align: top;\n",
       "    }\n",
       "\n",
       "    .dataframe thead th {\n",
       "        text-align: right;\n",
       "    }\n",
       "</style>\n",
       "<table border=\"1\" class=\"dataframe\">\n",
       "  <thead>\n",
       "    <tr style=\"text-align: right;\">\n",
       "      <th></th>\n",
       "      <th>updatetime</th>\n",
       "      <th>close</th>\n",
       "      <th>ma</th>\n",
       "    </tr>\n",
       "  </thead>\n",
       "  <tbody>\n",
       "    <tr>\n",
       "      <th>0</th>\n",
       "      <td>1667115960000</td>\n",
       "      <td>1626.62</td>\n",
       "      <td>1632.580333</td>\n",
       "    </tr>\n",
       "    <tr>\n",
       "      <th>1</th>\n",
       "      <td>1667116020000</td>\n",
       "      <td>1627.96</td>\n",
       "      <td>1632.502000</td>\n",
       "    </tr>\n",
       "    <tr>\n",
       "      <th>2</th>\n",
       "      <td>1667116080000</td>\n",
       "      <td>1627.70</td>\n",
       "      <td>1632.417000</td>\n",
       "    </tr>\n",
       "    <tr>\n",
       "      <th>3</th>\n",
       "      <td>1667116140000</td>\n",
       "      <td>1627.78</td>\n",
       "      <td>1632.325333</td>\n",
       "    </tr>\n",
       "    <tr>\n",
       "      <th>4</th>\n",
       "      <td>1667116200000</td>\n",
       "      <td>1628.16</td>\n",
       "      <td>1632.264500</td>\n",
       "    </tr>\n",
       "    <tr>\n",
       "      <th>...</th>\n",
       "      <td>...</td>\n",
       "      <td>...</td>\n",
       "      <td>...</td>\n",
       "    </tr>\n",
       "    <tr>\n",
       "      <th>295</th>\n",
       "      <td>1667133660000</td>\n",
       "      <td>1598.98</td>\n",
       "      <td>1600.398833</td>\n",
       "    </tr>\n",
       "    <tr>\n",
       "      <th>296</th>\n",
       "      <td>1667133720000</td>\n",
       "      <td>1598.30</td>\n",
       "      <td>1600.363000</td>\n",
       "    </tr>\n",
       "    <tr>\n",
       "      <th>297</th>\n",
       "      <td>1667133780000</td>\n",
       "      <td>1597.65</td>\n",
       "      <td>1600.287833</td>\n",
       "    </tr>\n",
       "    <tr>\n",
       "      <th>298</th>\n",
       "      <td>1667133840000</td>\n",
       "      <td>1598.37</td>\n",
       "      <td>1600.238667</td>\n",
       "    </tr>\n",
       "    <tr>\n",
       "      <th>299</th>\n",
       "      <td>1667133900000</td>\n",
       "      <td>1598.89</td>\n",
       "      <td>1600.198000</td>\n",
       "    </tr>\n",
       "  </tbody>\n",
       "</table>\n",
       "<p>300 rows × 3 columns</p>\n",
       "</div>"
      ],
      "text/plain": [
       "        updatetime    close           ma\n",
       "0    1667115960000  1626.62  1632.580333\n",
       "1    1667116020000  1627.96  1632.502000\n",
       "2    1667116080000  1627.70  1632.417000\n",
       "3    1667116140000  1627.78  1632.325333\n",
       "4    1667116200000  1628.16  1632.264500\n",
       "..             ...      ...          ...\n",
       "295  1667133660000  1598.98  1600.398833\n",
       "296  1667133720000  1598.30  1600.363000\n",
       "297  1667133780000  1597.65  1600.287833\n",
       "298  1667133840000  1598.37  1600.238667\n",
       "299  1667133900000  1598.89  1600.198000\n",
       "\n",
       "[300 rows x 3 columns]"
      ]
     },
     "execution_count": 2,
     "metadata": {},
     "output_type": "execute_result"
    }
   ],
   "source": [
    "# used some code from ccxt github: https://github.com/ccxt/ccxt/blob/master/examples/py/fetch-ohlcv-on-new-candle.py\n",
    "exchange = ccxt.binance({\n",
    "    'enableRateLimit': True,\n",
    "    'options': {\n",
    "        'defaultType': 'future',  # futures contracts\n",
    "    },\n",
    "})\n",
    "\n",
    "interval = exchange.parse_timeframe(timeframe) * 1000\n",
    "\n",
    "try:\n",
    "    since = exchange.round_timeframe(\n",
    "        timeframe, exchange.milliseconds(), ROUND_UP) - (timeLimit * interval)\n",
    "    ohlcv = exchange.fetch_ohlcv(symbol.replace(\n",
    "        \"/\", \"\"), timeframe, since=since, limit=timeLimit)\n",
    "except (ccxt.ExchangeError, ccxt.AuthenticationError, ccxt.ExchangeNotAvailable, ccxt.RequestTimeout) as error:\n",
    "    print('Got an error', type(error).__name__, error.args)\n",
    "\n",
    "# leave only updatetime and close price columns and calculate simple moving average\n",
    "candlesDf = pd.DataFrame(\n",
    "    ohlcv, columns=['updatetime', 'open', 'high', 'low', 'close', 'volume'])\n",
    "candlesDf = candlesDf[['updatetime', 'close']]\n",
    "candlesDf['ma'] = candlesDf['close'].rolling(windowSize).mean()\n",
    "# cut first windowSize rows to calculate ewma properly\n",
    "candlesDf = candlesDf[windowSize:].reset_index(drop=True)\n",
    "\n",
    "candlesDf\n"
   ]
  },
  {
   "cell_type": "markdown",
   "metadata": {},
   "source": [
    "Now we have dataframe with close prices and moving everage for specified in config time range"
   ]
  },
  {
   "cell_type": "markdown",
   "metadata": {},
   "source": [
    "### 3. Data processing"
   ]
  },
  {
   "cell_type": "markdown",
   "metadata": {},
   "source": [
    "Now let's code our processing unit that would, given the collected data and user strategy, would calculate PnL (realized + unrealized) during each 1min period. And don't forget about comission."
   ]
  },
  {
   "cell_type": "markdown",
   "metadata": {},
   "source": [
    "Function get_pnlDf will return two dataframes:<br /> 1) tradesDf wich we will use mostly for troubleshouting and checking that our strategy works as we intended<br /> 2) pndDf with pnl data for each candle"
   ]
  },
  {
   "cell_type": "code",
   "execution_count": 3,
   "metadata": {},
   "outputs": [],
   "source": [
    "# pnl calculation algorithm was taken from:\n",
    "# https://www.tradingtechnologies.com/xtrader-help/fix-adapter-reference/pl-calculation-algorithm/understanding-pl-calculations/?cn-reloaded=1\n",
    "def get_pnlDf(strat: dict, candlesDf: pd.DataFrame) -> pd.DataFrame:\n",
    "    \"\"\"Returns two dataframes with pnl and trades based on the strategy parameters and candles dataframe\"\"\"\n",
    "    buyStakeSize = strat['buyStakeSize']\n",
    "    buyBp = strat['buyBp']\n",
    "    buyCooldown = strat['buyCooldown']\n",
    "    buyMaxContracts = strat['buyMaxContracts']\n",
    "    sellStakeSize = strat['sellStakeSize']\n",
    "    sellBp = strat['sellBp']\n",
    "    sellCooldown = strat['sellCooldown']\n",
    "    sellMinContracts = strat['sellMinContracts']\n",
    "    lastBuyTradeTime = 0\n",
    "    lastSellTradeTime = 0\n",
    "    pnlRealized = 0\n",
    "    pnlUnrealized = 0\n",
    "    position = 0\n",
    "    averageOpenPrice = 0\n",
    "    pnlUnrealized = 0\n",
    "    pnlTotal = 0\n",
    "    comissionTotal = 0\n",
    "\n",
    "    # create empty dataframes\n",
    "    tradesDf = pd.DataFrame(columns=['updatetime', 'side', 'price',\n",
    "                            'stakeSize', 'position', 'timeSinceLastTrade'])\n",
    "    pnlDf = pd.DataFrame(columns=['updatetime', 'close', 'pnlRealized',\n",
    "                         'pnlUnrealized', 'pnlTotal', 'comissionTotal', 'position', 'averageOpenPrice'])\n",
    "\n",
    "    # for each candle calculate pnl and trades\n",
    "    for index, row in candlesDf.iterrows():\n",
    "        # of price is lower then ma, if position will not get grater then we specified and if cooldown is over\n",
    "        if row['close'] * (1 + buyBp / 10000) < row['ma'] and \\\n",
    "                position + buyStakeSize <= buyMaxContracts and \\\n",
    "                row['updatetime'] - lastBuyTradeTime > buyCooldown * minute:\n",
    "            # update lastBuyTradeTime and timeSinceLastBuyTrade\n",
    "            timeSinceLastBuyTrade = (\n",
    "                row['updatetime'] - lastBuyTradeTime) / minute\n",
    "            lastBuyTradeTime = row['updatetime']\n",
    "            # calculate comission\n",
    "            comissionTotal += buyStakeSize * row['close'] * comissionRate\n",
    "            # if position was >= 0 then new buy fills will not affect realized pnl\n",
    "            # but will affect unrealized pnl and total pnl\n",
    "            if position >= 0:\n",
    "                averageOpenPrice = (averageOpenPrice * position + row['close'] * buyStakeSize) / \\\n",
    "                    (position + buyStakeSize)\n",
    "                position += buyStakeSize\n",
    "            # if position was < 0 then new buy fills will affect realized pnl, unrealized pnl and total pnl\n",
    "            elif position < 0:\n",
    "                pnlRealized += (averageOpenPrice - row['close']) * \\\n",
    "                    min(buyStakeSize, -position)\n",
    "                position += buyStakeSize\n",
    "                # if position is still negative averageOpenPrice will not change\n",
    "                # if position becomes 0 averageOpenPrice will be also 0\n",
    "                # if position becomes positive averageOpenPrice will be equal to row['close']\n",
    "                if position == 0:\n",
    "                    averageOpenPrice = 0\n",
    "                elif position > 0:\n",
    "                    averageOpenPrice = row['close']\n",
    "            tradesDf = tradesDf.append({\n",
    "                'updatetime': row['updatetime'],\n",
    "                'side': 'buy',\n",
    "                'price': row['close'],\n",
    "                'stakeSize': buyStakeSize,\n",
    "                'position': position,\n",
    "                'timeSinceLastTrade': timeSinceLastBuyTrade\n",
    "            }, ignore_index=True)\n",
    "\n",
    "        elif row['close'] * (1 - sellBp / 10000) >= row['ma'] and \\\n",
    "                position - sellStakeSize > sellMinContracts and \\\n",
    "                row['updatetime'] - lastSellTradeTime > sellCooldown * minute:\n",
    "            timeSinceLastSellTrade = (\n",
    "                row['updatetime'] - lastSellTradeTime) / minute\n",
    "            lastSellTradeTime = row['updatetime']\n",
    "            # calculate comission\n",
    "            comissionTotal += sellStakeSize * row['close'] * comissionRate\n",
    "            # if position < 0 then new sell fills will not affect realized pnl\n",
    "            # but will affect unrealized pnl and total pnl\n",
    "            if position <= 0:\n",
    "                averageOpenPrice = (averageOpenPrice * abs(position) + row['close'] * sellStakeSize) / \\\n",
    "                    (abs(position) + sellStakeSize)\n",
    "                position -= sellStakeSize\n",
    "\n",
    "            # if position > 0 then new sell fills will affect realized pnl, unrealized pnl and total pnl\n",
    "            elif position > 0:\n",
    "                pnlRealized += (row['close'] - averageOpenPrice) * \\\n",
    "                    min(sellStakeSize, position)\n",
    "                position -= sellStakeSize\n",
    "                # if position is still positive averageOpenPrice will not change\n",
    "                # if position becomes 0 averageOpenPrice will be also 0\n",
    "                # if position becomes negative averageOpenPrice will be equal to row['close']\n",
    "                if position == 0:\n",
    "                    averageOpenPrice = 0\n",
    "                elif position < 0:\n",
    "                    averageOpenPrice = row['close']\n",
    "            tradesDf = tradesDf.append({\n",
    "                'updatetime': row['updatetime'],\n",
    "                'side': 'sell',\n",
    "                'price': row['close'],\n",
    "                'stakeSize': sellStakeSize,\n",
    "                'position': position,\n",
    "                'timeSinceLastTrade': timeSinceLastSellTrade\n",
    "            }, ignore_index=True)\n",
    "        # update pnlUnrealized and pnlTotal for each candle\n",
    "        pnlUnrealized = (row['close'] - averageOpenPrice) * position\n",
    "        pnlTotal = pnlRealized + pnlUnrealized\n",
    "        # add row to pnlDf\n",
    "        pnlDf = pnlDf.append({\n",
    "            'updatetime': row['updatetime'],\n",
    "            'close': row['close'],\n",
    "            'pnlRealized': pnlRealized,\n",
    "            'pnlUnrealized': pnlUnrealized,\n",
    "            'pnlTotal': pnlTotal,\n",
    "            'comissionTotal': comissionTotal,\n",
    "            'position': position,\n",
    "            'averageOpenPrice': averageOpenPrice\n",
    "        }, ignore_index=True)\n",
    "    # add pnlFinal column which shows totalPnl with taking comission into account\n",
    "    pnlDf['pnlFinal'] = pnlDf['pnlTotal'] - pnlDf['comissionTotal']\n",
    "    return tradesDf, pnlDf\n",
    "\n",
    "\n",
    "tradesDf, pnlDf = get_pnlDf(strat, candlesDf)\n"
   ]
  },
  {
   "cell_type": "markdown",
   "metadata": {},
   "source": [
    "First let's have a look at tradesDF"
   ]
  },
  {
   "cell_type": "code",
   "execution_count": 4,
   "metadata": {},
   "outputs": [
    {
     "data": {
      "text/html": [
       "<div>\n",
       "<style scoped>\n",
       "    .dataframe tbody tr th:only-of-type {\n",
       "        vertical-align: middle;\n",
       "    }\n",
       "\n",
       "    .dataframe tbody tr th {\n",
       "        vertical-align: top;\n",
       "    }\n",
       "\n",
       "    .dataframe thead th {\n",
       "        text-align: right;\n",
       "    }\n",
       "</style>\n",
       "<table border=\"1\" class=\"dataframe\">\n",
       "  <thead>\n",
       "    <tr style=\"text-align: right;\">\n",
       "      <th></th>\n",
       "      <th>updatetime</th>\n",
       "      <th>side</th>\n",
       "      <th>price</th>\n",
       "      <th>stakeSize</th>\n",
       "      <th>position</th>\n",
       "      <th>timeSinceLastTrade</th>\n",
       "    </tr>\n",
       "  </thead>\n",
       "  <tbody>\n",
       "    <tr>\n",
       "      <th>0</th>\n",
       "      <td>1.667116e+12</td>\n",
       "      <td>buy</td>\n",
       "      <td>1626.62</td>\n",
       "      <td>5</td>\n",
       "      <td>5</td>\n",
       "      <td>27785266.0</td>\n",
       "    </tr>\n",
       "    <tr>\n",
       "      <th>1</th>\n",
       "      <td>1.667117e+12</td>\n",
       "      <td>buy</td>\n",
       "      <td>1627.77</td>\n",
       "      <td>5</td>\n",
       "      <td>10</td>\n",
       "      <td>11.0</td>\n",
       "    </tr>\n",
       "    <tr>\n",
       "      <th>2</th>\n",
       "      <td>1.667117e+12</td>\n",
       "      <td>buy</td>\n",
       "      <td>1625.48</td>\n",
       "      <td>5</td>\n",
       "      <td>15</td>\n",
       "      <td>11.0</td>\n",
       "    </tr>\n",
       "    <tr>\n",
       "      <th>3</th>\n",
       "      <td>1.667128e+12</td>\n",
       "      <td>sell</td>\n",
       "      <td>1601.08</td>\n",
       "      <td>5</td>\n",
       "      <td>10</td>\n",
       "      <td>27785466.0</td>\n",
       "    </tr>\n",
       "    <tr>\n",
       "      <th>4</th>\n",
       "      <td>1.667130e+12</td>\n",
       "      <td>buy</td>\n",
       "      <td>1593.99</td>\n",
       "      <td>5</td>\n",
       "      <td>15</td>\n",
       "      <td>205.0</td>\n",
       "    </tr>\n",
       "    <tr>\n",
       "      <th>5</th>\n",
       "      <td>1.667130e+12</td>\n",
       "      <td>sell</td>\n",
       "      <td>1602.16</td>\n",
       "      <td>5</td>\n",
       "      <td>10</td>\n",
       "      <td>37.0</td>\n",
       "    </tr>\n",
       "    <tr>\n",
       "      <th>6</th>\n",
       "      <td>1.667131e+12</td>\n",
       "      <td>sell</td>\n",
       "      <td>1607.72</td>\n",
       "      <td>5</td>\n",
       "      <td>5</td>\n",
       "      <td>11.0</td>\n",
       "    </tr>\n",
       "    <tr>\n",
       "      <th>7</th>\n",
       "      <td>1.667132e+12</td>\n",
       "      <td>sell</td>\n",
       "      <td>1604.03</td>\n",
       "      <td>5</td>\n",
       "      <td>0</td>\n",
       "      <td>11.0</td>\n",
       "    </tr>\n",
       "    <tr>\n",
       "      <th>8</th>\n",
       "      <td>1.667132e+12</td>\n",
       "      <td>buy</td>\n",
       "      <td>1595.58</td>\n",
       "      <td>5</td>\n",
       "      <td>5</td>\n",
       "      <td>43.0</td>\n",
       "    </tr>\n",
       "    <tr>\n",
       "      <th>9</th>\n",
       "      <td>1.667133e+12</td>\n",
       "      <td>buy</td>\n",
       "      <td>1595.72</td>\n",
       "      <td>5</td>\n",
       "      <td>10</td>\n",
       "      <td>11.0</td>\n",
       "    </tr>\n",
       "  </tbody>\n",
       "</table>\n",
       "</div>"
      ],
      "text/plain": [
       "     updatetime  side    price stakeSize position  timeSinceLastTrade\n",
       "0  1.667116e+12   buy  1626.62         5        5          27785266.0\n",
       "1  1.667117e+12   buy  1627.77         5       10                11.0\n",
       "2  1.667117e+12   buy  1625.48         5       15                11.0\n",
       "3  1.667128e+12  sell  1601.08         5       10          27785466.0\n",
       "4  1.667130e+12   buy  1593.99         5       15               205.0\n",
       "5  1.667130e+12  sell  1602.16         5       10                37.0\n",
       "6  1.667131e+12  sell  1607.72         5        5                11.0\n",
       "7  1.667132e+12  sell  1604.03         5        0                11.0\n",
       "8  1.667132e+12   buy  1595.58         5        5                43.0\n",
       "9  1.667133e+12   buy  1595.72         5       10                11.0"
      ]
     },
     "execution_count": 4,
     "metadata": {},
     "output_type": "execute_result"
    }
   ],
   "source": [
    "tradesDf\n"
   ]
  },
  {
   "cell_type": "markdown",
   "metadata": {},
   "source": [
    "We can see that position is always in our interval and timeSinceLastTrade is always grater than cooldown"
   ]
  },
  {
   "cell_type": "markdown",
   "metadata": {},
   "source": [
    "Now let's have a look at pnlDf"
   ]
  },
  {
   "cell_type": "code",
   "execution_count": 5,
   "metadata": {},
   "outputs": [
    {
     "data": {
      "text/html": [
       "<div>\n",
       "<style scoped>\n",
       "    .dataframe tbody tr th:only-of-type {\n",
       "        vertical-align: middle;\n",
       "    }\n",
       "\n",
       "    .dataframe tbody tr th {\n",
       "        vertical-align: top;\n",
       "    }\n",
       "\n",
       "    .dataframe thead th {\n",
       "        text-align: right;\n",
       "    }\n",
       "</style>\n",
       "<table border=\"1\" class=\"dataframe\">\n",
       "  <thead>\n",
       "    <tr style=\"text-align: right;\">\n",
       "      <th></th>\n",
       "      <th>updatetime</th>\n",
       "      <th>close</th>\n",
       "      <th>pnlRealized</th>\n",
       "      <th>pnlUnrealized</th>\n",
       "      <th>pnlTotal</th>\n",
       "      <th>comissionTotal</th>\n",
       "      <th>position</th>\n",
       "      <th>averageOpenPrice</th>\n",
       "      <th>pnlFinal</th>\n",
       "    </tr>\n",
       "  </thead>\n",
       "  <tbody>\n",
       "    <tr>\n",
       "      <th>0</th>\n",
       "      <td>1.667116e+12</td>\n",
       "      <td>1626.62</td>\n",
       "      <td>0.00</td>\n",
       "      <td>0.0</td>\n",
       "      <td>0.00</td>\n",
       "      <td>8.13310</td>\n",
       "      <td>5.0</td>\n",
       "      <td>1626.62</td>\n",
       "      <td>-8.13310</td>\n",
       "    </tr>\n",
       "    <tr>\n",
       "      <th>1</th>\n",
       "      <td>1.667116e+12</td>\n",
       "      <td>1627.96</td>\n",
       "      <td>0.00</td>\n",
       "      <td>6.7</td>\n",
       "      <td>6.70</td>\n",
       "      <td>8.13310</td>\n",
       "      <td>5.0</td>\n",
       "      <td>1626.62</td>\n",
       "      <td>-1.43310</td>\n",
       "    </tr>\n",
       "    <tr>\n",
       "      <th>2</th>\n",
       "      <td>1.667116e+12</td>\n",
       "      <td>1627.70</td>\n",
       "      <td>0.00</td>\n",
       "      <td>5.4</td>\n",
       "      <td>5.40</td>\n",
       "      <td>8.13310</td>\n",
       "      <td>5.0</td>\n",
       "      <td>1626.62</td>\n",
       "      <td>-2.73310</td>\n",
       "    </tr>\n",
       "    <tr>\n",
       "      <th>3</th>\n",
       "      <td>1.667116e+12</td>\n",
       "      <td>1627.78</td>\n",
       "      <td>0.00</td>\n",
       "      <td>5.8</td>\n",
       "      <td>5.80</td>\n",
       "      <td>8.13310</td>\n",
       "      <td>5.0</td>\n",
       "      <td>1626.62</td>\n",
       "      <td>-2.33310</td>\n",
       "    </tr>\n",
       "    <tr>\n",
       "      <th>4</th>\n",
       "      <td>1.667116e+12</td>\n",
       "      <td>1628.16</td>\n",
       "      <td>0.00</td>\n",
       "      <td>7.7</td>\n",
       "      <td>7.70</td>\n",
       "      <td>8.13310</td>\n",
       "      <td>5.0</td>\n",
       "      <td>1626.62</td>\n",
       "      <td>-0.43310</td>\n",
       "    </tr>\n",
       "    <tr>\n",
       "      <th>...</th>\n",
       "      <td>...</td>\n",
       "      <td>...</td>\n",
       "      <td>...</td>\n",
       "      <td>...</td>\n",
       "      <td>...</td>\n",
       "      <td>...</td>\n",
       "      <td>...</td>\n",
       "      <td>...</td>\n",
       "      <td>...</td>\n",
       "    </tr>\n",
       "    <tr>\n",
       "      <th>295</th>\n",
       "      <td>1.667134e+12</td>\n",
       "      <td>1598.98</td>\n",
       "      <td>-294.35</td>\n",
       "      <td>33.3</td>\n",
       "      <td>-261.05</td>\n",
       "      <td>80.40075</td>\n",
       "      <td>10.0</td>\n",
       "      <td>1595.65</td>\n",
       "      <td>-341.45075</td>\n",
       "    </tr>\n",
       "    <tr>\n",
       "      <th>296</th>\n",
       "      <td>1.667134e+12</td>\n",
       "      <td>1598.30</td>\n",
       "      <td>-294.35</td>\n",
       "      <td>26.5</td>\n",
       "      <td>-267.85</td>\n",
       "      <td>80.40075</td>\n",
       "      <td>10.0</td>\n",
       "      <td>1595.65</td>\n",
       "      <td>-348.25075</td>\n",
       "    </tr>\n",
       "    <tr>\n",
       "      <th>297</th>\n",
       "      <td>1.667134e+12</td>\n",
       "      <td>1597.65</td>\n",
       "      <td>-294.35</td>\n",
       "      <td>20.0</td>\n",
       "      <td>-274.35</td>\n",
       "      <td>80.40075</td>\n",
       "      <td>10.0</td>\n",
       "      <td>1595.65</td>\n",
       "      <td>-354.75075</td>\n",
       "    </tr>\n",
       "    <tr>\n",
       "      <th>298</th>\n",
       "      <td>1.667134e+12</td>\n",
       "      <td>1598.37</td>\n",
       "      <td>-294.35</td>\n",
       "      <td>27.2</td>\n",
       "      <td>-267.15</td>\n",
       "      <td>80.40075</td>\n",
       "      <td>10.0</td>\n",
       "      <td>1595.65</td>\n",
       "      <td>-347.55075</td>\n",
       "    </tr>\n",
       "    <tr>\n",
       "      <th>299</th>\n",
       "      <td>1.667134e+12</td>\n",
       "      <td>1598.89</td>\n",
       "      <td>-294.35</td>\n",
       "      <td>32.4</td>\n",
       "      <td>-261.95</td>\n",
       "      <td>80.40075</td>\n",
       "      <td>10.0</td>\n",
       "      <td>1595.65</td>\n",
       "      <td>-342.35075</td>\n",
       "    </tr>\n",
       "  </tbody>\n",
       "</table>\n",
       "<p>300 rows × 9 columns</p>\n",
       "</div>"
      ],
      "text/plain": [
       "       updatetime    close  pnlRealized  pnlUnrealized  pnlTotal  \\\n",
       "0    1.667116e+12  1626.62         0.00            0.0      0.00   \n",
       "1    1.667116e+12  1627.96         0.00            6.7      6.70   \n",
       "2    1.667116e+12  1627.70         0.00            5.4      5.40   \n",
       "3    1.667116e+12  1627.78         0.00            5.8      5.80   \n",
       "4    1.667116e+12  1628.16         0.00            7.7      7.70   \n",
       "..            ...      ...          ...            ...       ...   \n",
       "295  1.667134e+12  1598.98      -294.35           33.3   -261.05   \n",
       "296  1.667134e+12  1598.30      -294.35           26.5   -267.85   \n",
       "297  1.667134e+12  1597.65      -294.35           20.0   -274.35   \n",
       "298  1.667134e+12  1598.37      -294.35           27.2   -267.15   \n",
       "299  1.667134e+12  1598.89      -294.35           32.4   -261.95   \n",
       "\n",
       "     comissionTotal  position  averageOpenPrice   pnlFinal  \n",
       "0           8.13310       5.0           1626.62   -8.13310  \n",
       "1           8.13310       5.0           1626.62   -1.43310  \n",
       "2           8.13310       5.0           1626.62   -2.73310  \n",
       "3           8.13310       5.0           1626.62   -2.33310  \n",
       "4           8.13310       5.0           1626.62   -0.43310  \n",
       "..              ...       ...               ...        ...  \n",
       "295        80.40075      10.0           1595.65 -341.45075  \n",
       "296        80.40075      10.0           1595.65 -348.25075  \n",
       "297        80.40075      10.0           1595.65 -354.75075  \n",
       "298        80.40075      10.0           1595.65 -347.55075  \n",
       "299        80.40075      10.0           1595.65 -342.35075  \n",
       "\n",
       "[300 rows x 9 columns]"
      ]
     },
     "execution_count": 5,
     "metadata": {},
     "output_type": "execute_result"
    }
   ],
   "source": [
    "pnlDf\n"
   ]
  },
  {
   "cell_type": "markdown",
   "metadata": {},
   "source": [
    "Now let's calculate final pnl via tradesDf and check if we get same numbers."
   ]
  },
  {
   "cell_type": "code",
   "execution_count": 6,
   "metadata": {},
   "outputs": [
    {
     "name": "stdout",
     "output_type": "stream",
     "text": [
      "pnlRealized:  -142.24999999999454\n",
      "pnlUnrealized:  -119.699999999998\n",
      "pnlTotal:  -261.94999999999254\n",
      "comissionTotal:  80.40075\n",
      "pnlFinal:  -342.35074999999256\n"
     ]
    }
   ],
   "source": [
    "# initial pnl calculations from https://www.tradingtechnologies.com/xtrader-help/fix-adapter-reference/pl-calculation-algorithm/understanding-pl-calculations/?cn-reloaded=1\n",
    "tradesDf['quoteQty'] = tradesDf['price'] * tradesDf['stakeSize']\n",
    "totalBuyQty = tradesDf[tradesDf['side'] == 'buy']['stakeSize'].sum()\n",
    "averageBuyPrice = tradesDf[tradesDf['side']\n",
    "                           == 'buy']['quoteQty'].sum() / totalBuyQty\n",
    "totalSellQty = tradesDf[tradesDf['side'] == 'sell']['stakeSize'].sum()\n",
    "averageSellPrice = tradesDf[tradesDf['side'] ==\n",
    "                            'sell']['quoteQty'].sum() / totalSellQty\n",
    "pnlRealized = (averageSellPrice - averageBuyPrice) * \\\n",
    "    min(totalBuyQty, totalSellQty)\n",
    "\n",
    "position = totalBuyQty - totalSellQty\n",
    "if position > 0:\n",
    "    averageOpenPrice = averageBuyPrice\n",
    "elif position < 0:\n",
    "    averageOpenPrice = averageSellPrice\n",
    "else:\n",
    "    averageOpenPrice = 0\n",
    "\n",
    "pnlUnrealized = (candlesDf['close'].iloc[-1] - averageOpenPrice) * position\n",
    "pnlTotal = pnlRealized + pnlUnrealized\n",
    "comissionTotal = tradesDf['quoteQty'].sum() * comissionRate\n",
    "pnlFinal = pnlTotal - comissionTotal\n",
    "\n",
    "print('pnlRealized: ', pnlRealized)\n",
    "print('pnlUnrealized: ', pnlUnrealized)\n",
    "print('pnlTotal: ', pnlTotal)\n",
    "print('comissionTotal: ', comissionTotal)\n",
    "print('pnlFinal: ', pnlFinal)\n"
   ]
  },
  {
   "cell_type": "markdown",
   "metadata": {},
   "source": [
    "We can see that final PnL is the same for both methods so our algorithms should be right. <br /> pnlRealized and pnlUnrealized do not match in different methods. This happens because in second method we calculate average prices for the whole dataframe but in first method we iterate row by row and we don't know future trades and average prices are different."
   ]
  },
  {
   "cell_type": "markdown",
   "metadata": {},
   "source": [
    "### 4. Analysis unit"
   ]
  },
  {
   "cell_type": "markdown",
   "metadata": {},
   "source": [
    "Analysis unit would calculate final PnL, Sharpe ratio, drawdown, and display them to the user alongside with PnL graph"
   ]
  },
  {
   "cell_type": "markdown",
   "metadata": {},
   "source": [
    "First let's make a function that calculates Sharpes rate"
   ]
  },
  {
   "cell_type": "code",
   "execution_count": 7,
   "metadata": {},
   "outputs": [
    {
     "data": {
      "text/plain": [
       "-1.2160813494639962"
      ]
     },
     "execution_count": 7,
     "metadata": {},
     "output_type": "execute_result"
    }
   ],
   "source": [
    "tradingDaysCount = cfg['tradingDaysCount']\n",
    "riskFreeRate = cfg['riskFreeRate']\n",
    "\n",
    "\n",
    "def get_sharpeRatio(pnlDf, tradingDaysCount, riskFreeRate):\n",
    "    # calculate sharpe ratio\n",
    "    pnlDf['dailyReturn'] = pnlDf['close'].pct_change()\n",
    "    dailyReturnMean = pnlDf['dailyReturn'].mean()\n",
    "    dailyReturnStd = pnlDf['dailyReturn'].std()\n",
    "    sharpeRatio = (dailyReturnMean - riskFreeRate /\n",
    "                   tradingDaysCount) / dailyReturnStd\n",
    "    # calculate annualized sharpe ratio\n",
    "    annualizedSharpeRatio = sharpeRatio * math.sqrt(tradingDaysCount)\n",
    "    return sharpeRatio, annualizedSharpeRatio\n",
    "\n",
    "\n",
    "sharpeRatio, annualizedSharpeRatio = get_sharpeRatio(\n",
    "    pnlDf, tradingDaysCount, riskFreeRate)\n",
    "\n",
    "annualizedSharpeRatio\n"
   ]
  },
  {
   "cell_type": "markdown",
   "metadata": {},
   "source": [
    "Now calculate maximum drawdown in percents"
   ]
  },
  {
   "cell_type": "code",
   "execution_count": 8,
   "metadata": {},
   "outputs": [
    {
     "data": {
      "text/plain": [
       "3837.5854128894084"
      ]
     },
     "execution_count": 8,
     "metadata": {},
     "output_type": "execute_result"
    }
   ],
   "source": [
    "# function to calculate maximum drawdown in percent\n",
    "def get_maxDrawdown(pnlDf):\n",
    "    pnlDf['drawdown'] = pnlDf['pnlFinal'].cummax() - pnlDf['pnlFinal']\n",
    "    maxDrawdown = pnlDf['drawdown'].max()\n",
    "    maxDrawdownPercent = maxDrawdown / pnlDf['pnlFinal'].cummax().max() * 100\n",
    "    return maxDrawdownPercent\n",
    "\n",
    "\n",
    "maxDrawdown = get_maxDrawdown(pnlDf)\n",
    "maxDrawdown\n"
   ]
  },
  {
   "cell_type": "markdown",
   "metadata": {},
   "source": [
    "Finally we plot a graph"
   ]
  },
  {
   "cell_type": "code",
   "execution_count": 9,
   "metadata": {},
   "outputs": [
    {
     "data": {
      "text/plain": [
       "Text(0.8, 0.95, 'Sharpe Ratio: -0.06\\nMaximum Drawdown: 3838 %')"
      ]
     },
     "execution_count": 9,
     "metadata": {},
     "output_type": "execute_result"
    },
    {
     "data": {
      "image/png": "[encoded data removed]",
      "text/plain": [
       "<Figure size 1152x648 with 1 Axes>"
      ]
     },
     "metadata": {
      "needs_background": "light"
     },
     "output_type": "display_data"
    }
   ],
   "source": [
    "pnlDf['updatetime'] = pd.to_datetime(pnlDf['updatetime'], unit='ms')\n",
    "pnlDf = pnlDf.set_index('updatetime')\n",
    "\n",
    "fig, ax = mplt.subplots()\n",
    "fig.set_size_inches(16, 9, forward=True)\n",
    "ax.set_title(str(symbol) + ' PnL')\n",
    "ax.plot(pnlDf.pnlFinal, color='cornflowerblue')\n",
    "ax.set_ylabel('PnL')\n",
    "ax.set_title(symbol+\" PnL\")\n",
    "# добавляем текст справа сверху\n",
    "box_text = ''\n",
    "box_text += 'Sharpe Ratio: ' + str(round(sharpeRatio, 2)) + '\\n'\n",
    "box_text += 'Maximum Drawdown: ' + str(round(maxDrawdown)) + ' %'\n",
    "ax.text(0.8, 0.95, box_text, transform=ax.transAxes, fontsize=10,\n",
    "        verticalalignment='top')\n"
   ]
  },
  {
   "cell_type": "markdown",
   "metadata": {},
   "source": [
    "image.png"
   ]
  },
  {
   "cell_type": "markdown",
   "metadata": {},
   "source": [
    "Now we will create service based on this notebook"
   ]
  }
 ],
 "metadata": {
  "kernelspec": {
   "display_name": "Python 3.10.0 64-bit",
   "language": "python",
   "name": "python3"
  },
  "language_info": {
   "codemirror_mode": {
    "name": "ipython",
    "version": 3
   },
   "file_extension": ".py",
   "mimetype": "text/x-python",
   "name": "python",
   "nbconvert_exporter": "python",
   "pygments_lexer": "ipython3",
   "version": "3.10.0"
  },
  "orig_nbformat": 4,
  "vscode": {
   "interpreter": {
    "hash": "b07d5609b55c953684126533ecb362b096281dfca54f7bec9599471705f98c01"
   }
  }
 },
 "nbformat": 4,
 "nbformat_minor": 2
}
